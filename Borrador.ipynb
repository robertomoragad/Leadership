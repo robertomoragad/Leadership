{
  "nbformat": 4,
  "nbformat_minor": 0,
  "metadata": {
    "colab": {
      "name": "Borrador.ipynb",
      "provenance": [],
      "toc_visible": true,
      "authorship_tag": "ABX9TyN/dUxH87t0Z26i7G5mf99c",
      "include_colab_link": true
    },
    "kernelspec": {
      "name": "python3",
      "display_name": "Python 3"
    },
    "language_info": {
      "name": "python"
    }
  },
  "cells": [
    {
      "cell_type": "markdown",
      "metadata": {
        "id": "view-in-github",
        "colab_type": "text"
      },
      "source": [
        "<a href=\"https://colab.research.google.com/github/robertomoragad/Leadership/blob/main/Borrador.ipynb\" target=\"_parent\"><img src=\"https://colab.research.google.com/assets/colab-badge.svg\" alt=\"Open In Colab\"/></a>"
      ]
    },
    {
      "cell_type": "code",
      "execution_count": null,
      "metadata": {
        "id": "52IJOqJ8N5H-"
      },
      "outputs": [],
      "source": [
        ""
      ]
    },
    {
      "cell_type": "markdown",
      "source": [
        "#TITULO"
      ],
      "metadata": {
        "id": "JwIbogW0Ogku"
      }
    },
    {
      "cell_type": "markdown",
      "source": [
        "\n",
        "\n",
        "## apartado 1\n",
        "\n",
        "Hnjsa casñcmamsc.,sasajcnasm cascklmaskcsc\n",
        "ascnascsaklncscasc\n",
        "nasc,asca\n",
        "\n",
        "* hola\n",
        "* chao\n",
        "* bye bye\n",
        " "
      ],
      "metadata": {
        "id": "zR4DLGaLOG7T"
      }
    },
    {
      "cell_type": "markdown",
      "source": [
        "## Apartado 2\n",
        " kanjsa,\n",
        " sancajsnc,\n",
        " ascknasc"
      ],
      "metadata": {
        "id": "2tgxSM9zOZFF"
      }
    }
  ]
}