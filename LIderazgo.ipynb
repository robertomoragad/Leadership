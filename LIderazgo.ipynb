{
  "nbformat": 4,
  "nbformat_minor": 0,
  "metadata": {
    "colab": {
      "name": "LIderazgo.ipynb",
      "provenance": [],
      "authorship_tag": "ABX9TyNKPwxf/TqX/uUSYMRln5W2",
      "include_colab_link": true
    },
    "kernelspec": {
      "name": "python3",
      "display_name": "Python 3"
    },
    "language_info": {
      "name": "python"
    }
  },
  "cells": [
    {
      "cell_type": "markdown",
      "metadata": {
        "id": "view-in-github",
        "colab_type": "text"
      },
      "source": [
        "<a href=\"https://colab.research.google.com/github/robertomoragad/Leadership/blob/main/LIderazgo.ipynb\" target=\"_parent\"><img src=\"https://colab.research.google.com/assets/colab-badge.svg\" alt=\"Open In Colab\"/></a>"
      ]
    },
    {
      "cell_type": "code",
      "execution_count": null,
      "metadata": {
        "id": "fdRF9dHkN24P"
      },
      "outputs": [],
      "source": [
        ""
      ]
    },
    {
      "cell_type": "markdown",
      "source": [
        "#Liderazgo \n",
        "Según la **RAE**, Liderazgo es una condición de líder o ejercicio de las actividades de líder. Pero para entender cómo actúa un líder, primero debemos entender que se conoce como líder dentro de una organización. Muchas veces pensamos que un líder es aquél que tiene un puesto o un cargo en la organización, y debido a esto ejerce su liderazgo ocupando el puesto, algunas veces este líder es realmente un líder y en muchas otras simplemente es una persona con un cargo superior. También, se da que existen líderes innatos, son aquellas personas que no tienen un cargo de liderazgo y cumplen roles de líderes en sus equipos. Esto se puede dar en cualquier ámbito, ya sea desde un colegio, en donde en un curso un niño es líder y hay un masa que lo sigue o grandes líderes mundiales, como Barack Obama, en donde un mundo cumpleto lo sigue en sus ideas. Según literatura, podemos encontrar distintas clases de liderazgo, cuando yo expongo temas de liderazgo, no me baso mucho en el tema si es autoritario o un laissez faire, sino que me baso en los liderazgos positivos o negativos. En mi caso personal, trato siempre de ser positiva, porque la enseñanza de alguien siempre debe ser desde lo positivo, no lo lograste hoy, pero sé que lo lograrás mañana. Entonces, por naturaleza, hay líderes que son negativos, éstos no se dan a conocer inmediatamente, sino que al pasar el tiempo te das cuenta que existen estos líderes y muestran su cara tarde o temprano. En cambio, el líder positivo es aquél que apoya a su equipo a ser mejores día a día, de una forma de empoderar a las personas, para que éstas realicen sus labores sin necesidad de aprobación de su líder, también es la persona encargada de enseñar a sus seguidores a cómo deben comportarse y cómo guiar al resto para que sus acciones sean mejores para la sociedad en donde nos encontramos. El líder es quien debe mirar más allá de su mundo actual, visualizar cómo pasarán las cosas y cuáles podrían ser las consecuencias de éstas, porque recordemos que toda acción tiene su consecuencia (negativa o positiva). Pensar en positivo cuesta, a veces, porque las circunstancias te hacen ver los entornos más negros, pero es ahí en donde el líder debe tener la habilidad de llevar siempre a su equipo por el lado de lo positivo, de buscar las soluciones con tu grupo a los desafíos planteados, de trabajar en equipo, en una eterna colaboración, para que el trabajo o el dasfío planteado salga de acuerdo a las proyecciones que tuvo el líder al momento de aceptar el desafío.\n",
        "\n",
        "No sólo el líder debe ser capaz de mirar esto, sino también se aocmpañar a sus seguidores, ya que es importante su presencia en los momentos claves que vive el grupo, y aceptar las diferencias de opinión que tenga este equipo, ya que somos personas pensantes y con experiencias distintas, y es ahí donde el líder debe tener el arte del mando, saber cuándo dar una instrucción, pero con el cariño que un madre acaricia a su hijo, manteniendo claro a todo el mundo el objetivo que quiere llegar, y saber guiar a su grupo para que éstos hagan sus esfuerzos y cumplir con las metas y objetivos trazados."
      ],
      "metadata": {
        "id": "2YQs3r1EOGA1"
      }
    }
  ]
}